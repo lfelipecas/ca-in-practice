{
 "cells": [
  {
   "cell_type": "markdown",
   "metadata": {},
   "source": [
    "# Chapter 1: Scatterplots and maps"
   ]
  },
  {
   "cell_type": "code",
   "execution_count": 1,
   "metadata": {},
   "outputs": [],
   "source": [
    "import pandas as pd\n",
    "import matplotlib.pyplot as plt"
   ]
  },
  {
   "cell_type": "code",
   "execution_count": 2,
   "metadata": {},
   "outputs": [],
   "source": [
    "def create_frequency_table_with_totals(df: pd.DataFrame) -> pd.DataFrame:\n",
    "    \"\"\"\n",
    "    Creates a frequency table by adding a 'Total' column and row.\n",
    "\n",
    "    Parameters:\n",
    "    df (pd.DataFrame): A DataFrame containing the original frequency data.\n",
    "\n",
    "    Returns:\n",
    "    pd.DataFrame: A DataFrame containing the frequency table with row and column totals.\n",
    "    \"\"\"\n",
    "    # Add a new column 'Total' to represent the sum of each row\n",
    "    df['Total'] = df.sum(axis=1)\n",
    "\n",
    "    # Add a new row 'Total' to represent the sum of each column\n",
    "    df.loc['Total'] = df.sum(axis=0)\n",
    "\n",
    "    return df"
   ]
  },
  {
   "cell_type": "code",
   "execution_count": 3,
   "metadata": {},
   "outputs": [],
   "source": [
    "def create_percentage_table(df: pd.DataFrame) -> pd.DataFrame:\n",
    "    \"\"\"\n",
    "    Creates a percentage table from the given frequency table.\n",
    "    The resulting percentage table will exclude the 'Total' column but will add a 'Global' row\n",
    "    that represents the overall percentages for each category.\n",
    "\n",
    "    Parameters:\n",
    "    df (pd.DataFrame): A DataFrame containing the frequency table with totals.\n",
    "\n",
    "    Returns:\n",
    "    pd.DataFrame: A DataFrame containing the percentage table with a 'Global' row.\n",
    "    \"\"\"\n",
    "    # Remove the 'Total' column as it's not needed for percentage calculations\n",
    "    df_percentages = df.drop(columns='Total').div(df['Total'], axis=0) * 100\n",
    "\n",
    "    # Round to 0 decimals and convert to integer for a cleaner display\n",
    "    df_percentages = df_percentages.round(0).astype(int)\n",
    "\n",
    "    # Rename the 'Total' row to 'Global'\n",
    "    df_percentages.rename(index={'Total': 'Global'}, inplace=True)\n",
    "    \n",
    "    return df_percentages"
   ]
  },
  {
   "cell_type": "markdown",
   "metadata": {},
   "source": [
    "Create the dataframe corresponding to 'Image 1.3: Frequencies of Day Types in the Four Trips':"
   ]
  },
  {
   "cell_type": "code",
   "execution_count": 4,
   "metadata": {},
   "outputs": [],
   "source": [
    "# Define the relative path to the CSV file\n",
    "data_path = \"../data/chapter1.csv\""
   ]
  },
  {
   "cell_type": "code",
   "execution_count": 5,
   "metadata": {},
   "outputs": [],
   "source": [
    "# Load the data into a DataFrame\n",
    "df = pd.read_csv(data_path)\n",
    "\n",
    "# Set 'Country' as the index to facilitate table readability\n",
    "df.set_index('Country', inplace=True)"
   ]
  },
  {
   "cell_type": "code",
   "execution_count": 6,
   "metadata": {},
   "outputs": [
    {
     "name": "stdout",
     "output_type": "stream",
     "text": [
      "Frequency Table with Totals:\n",
      "                Holiday  Half-Day Work  Full-Day Work  Total\n",
      "Country                                                     \n",
      "Norway                6              1             11     18\n",
      "Canada                1              3             11     15\n",
      "Greece                4             25              0     29\n",
      "France/Germany        2              2             20     24\n",
      "Total                13             31             42     86\n"
     ]
    }
   ],
   "source": [
    "# Create the frequency table with totals\n",
    "frequency_table = create_frequency_table_with_totals(df)\n",
    "print(\"Frequency Table with Totals:\")\n",
    "print(frequency_table)"
   ]
  },
  {
   "cell_type": "markdown",
   "metadata": {},
   "source": [
    "Create the dataframe corresponding to 'Image 1.5: Percentages of Day Types in Each Trip, as well as Global Percentages, where Each Row Totals 100\\%':"
   ]
  },
  {
   "cell_type": "code",
   "execution_count": 7,
   "metadata": {},
   "outputs": [
    {
     "name": "stdout",
     "output_type": "stream",
     "text": [
      "\n",
      "Percentage Table with Global Row:\n",
      "                Holiday  Half-Day Work  Full-Day Work\n",
      "Country                                              \n",
      "Norway               33              6             61\n",
      "Canada                7             20             73\n",
      "Greece               14             86              0\n",
      "France/Germany        8              8             83\n",
      "Global               15             36             49\n"
     ]
    }
   ],
   "source": [
    "# Create the percentage table from the frequency table\n",
    "percentage_table = create_percentage_table(frequency_table)\n",
    "print(\"\\nPercentage Table with Global Row:\")\n",
    "print(percentage_table)"
   ]
  },
  {
   "cell_type": "markdown",
   "metadata": {},
   "source": [
    "Create 'Image 1.4: Diagrams of Absolute Frequencies (a) and Relative Frequencies (b), Expressed as Percentages of Rows from Image 1.3':"
   ]
  },
  {
   "cell_type": "code",
   "execution_count": null,
   "metadata": {},
   "outputs": [],
   "source": [
    "# Plotting absolute frequencies and relative frequencies\n",
    "plt.figure(figsize=(14, 6))\n",
    "\n",
    "# Absolute frequencies plot (a)\n",
    "plt.subplot(1, 2, 1)\n",
    "for country in frequency_table.index:\n",
    "    if country != 'Total':  # Exclude 'Total' row from plotting\n",
    "        plt.plot(frequency_table.columns[:-1], frequency_table.loc[country, frequency_table.columns[:-1]],\n",
    "                 marker='o', linestyle='-', label=country)\n",
    "\n",
    "plt.xlabel('Day Types')\n",
    "plt.ylabel('Days')\n",
    "plt.title('Absolute Frequencies of Day Types')\n",
    "plt.xticks(rotation=0)\n",
    "plt.ylim(0, 30)\n",
    "plt.legend()\n",
    "plt.grid(True)\n",
    "\n",
    "# Relative frequencies plot (b)\n",
    "plt.subplot(1, 2, 2)\n",
    "for country in percentage_table.index:\n",
    "    if country != 'Global':  # Exclude 'Global' row from plotting\n",
    "        plt.plot(percentage_table.columns, percentage_table.loc[country],\n",
    "                 marker='o', linestyle='-', label=country)\n",
    "\n",
    "plt.xlabel('Day Types')\n",
    "plt.ylabel('Percentage of Days (%)')\n",
    "plt.title('Relative Frequencies of Day Types')\n",
    "plt.xticks(rotation=0)\n",
    "plt.ylim(0, 100)\n",
    "plt.legend()\n",
    "plt.grid(True)\n",
    "\n",
    "# Show the plots\n",
    "plt.tight_layout()\n",
    "plt.show()"
   ]
  }
 ],
 "metadata": {
  "kernelspec": {
   "display_name": "mca_ann_inv",
   "language": "python",
   "name": "python3"
  },
  "language_info": {
   "codemirror_mode": {
    "name": "ipython",
    "version": 3
   },
   "file_extension": ".py",
   "mimetype": "text/x-python",
   "name": "python",
   "nbconvert_exporter": "python",
   "pygments_lexer": "ipython3",
   "version": "3.9.19"
  }
 },
 "nbformat": 4,
 "nbformat_minor": 2
}
