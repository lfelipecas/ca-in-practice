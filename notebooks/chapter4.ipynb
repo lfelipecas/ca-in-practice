{
 "cells": [
  {
   "cell_type": "markdown",
   "metadata": {},
   "source": [
    "# Chapter 4: Chi-Square Distance and Inertia"
   ]
  },
  {
   "cell_type": "code",
   "execution_count": 1,
   "metadata": {},
   "outputs": [],
   "source": [
    "import numpy as np\n",
    "import pandas as pd\n",
    "from scipy.spatial.distance import pdist, squareform"
   ]
  },
  {
   "cell_type": "code",
   "execution_count": 2,
   "metadata": {},
   "outputs": [
    {
     "name": "stdout",
     "output_type": "stream",
     "text": [
      "Chi2 Statistic: 25.97724142102321\n",
      "Inertia (Chi2 / total sum): 0.08326038916994619\n",
      "Chi2 Distance for E5: 0.1859164906900525\n",
      "Chi2 Distances for all profiles:\n",
      "E1    0.353360\n",
      "E2    0.117023\n",
      "E3    0.027392\n",
      "E4    0.039438\n",
      "E5    0.185916\n",
      "dtype: float64\n",
      "Pairwise Chi2 Distance Matrix:\n",
      "               E1        E2        E3        E4        E5   Average\n",
      "E1       0.000000  0.373700  0.635251  0.791942  1.000805  0.594441\n",
      "E2       0.373700  0.000000  0.469615  0.506557  0.770364  0.342087\n",
      "E3       0.635251  0.469615  0.000000  0.259140  0.370357  0.165506\n",
      "E4       0.791942  0.506557  0.259140  0.000000  0.284528  0.198591\n",
      "E5       1.000805  0.770364  0.370357  0.284528  0.000000  0.431180\n",
      "Average  0.594441  0.342087  0.165506  0.198591  0.431180  0.000000\n"
     ]
    }
   ],
   "source": [
    "# Load the data\n",
    "data_path = \"../data/readers.xls\"\n",
    "df = pd.read_excel(data_path, index_col=0)\n",
    "\n",
    "# Step 1: Calculate Chi2 statistic and inertia\n",
    "row_sum = df.sum(axis=1)\n",
    "col_sum = df.sum(axis=0)\n",
    "total_sum = df.values.sum()\n",
    "\n",
    "# Expected frequencies table\n",
    "expected_table = np.outer(row_sum, col_sum) / total_sum\n",
    "\n",
    "# Chi2 statistic\n",
    "chi2_stat = np.sum((df.values - expected_table) ** 2 / expected_table)\n",
    "inertia = chi2_stat / total_sum\n",
    "\n",
    "print(f\"Chi2 Statistic: {chi2_stat}\")\n",
    "print(f\"Inertia (Chi2 / total sum): {inertia}\")\n",
    "\n",
    "# Step 2: Calculate row profiles\n",
    "table_pro = df.div(df.sum(axis=1), axis=0)\n",
    "\n",
    "# Step 3: Calculate column masses\n",
    "table_col_mass = df.sum(axis=0) / df.values.sum()\n",
    "\n",
    "# Step 4: Calculate Chi2 distance for a specific row (example: E5)\n",
    "row_label = 'E5'\n",
    "chi2_distance_E5 = np.sum((table_pro.loc[row_label] - table_col_mass) ** 2 / table_col_mass)\n",
    "print(f\"Chi2 Distance for E5: {chi2_distance_E5}\")\n",
    "\n",
    "# Step 5: Calculate Chi2 distances for all rows (profiles)\n",
    "chi2_distances = np.sum((table_pro - table_col_mass) ** 2 / table_col_mass, axis=1)\n",
    "print(\"Chi2 Distances for all profiles:\")\n",
    "print(chi2_distances)\n",
    "\n",
    "# Step 6: Calculate pairwise Chi2 distances between all rows, including the average\n",
    "average_profile = pd.Series(table_col_mass, name='Average')\n",
    "table_pro_with_avg = pd.concat([table_pro, average_profile.to_frame().T])\n",
    "\n",
    "# Scale each value by the sqrt of the column masses\n",
    "table_pro_scaled = table_pro_with_avg.div(np.sqrt(table_col_mass), axis=1)\n",
    "\n",
    "# Calculate pairwise distances using the Euclidean metric\n",
    "dist_matrix = pdist(table_pro_scaled, metric='euclidean')\n",
    "dist_matrix = squareform(dist_matrix)\n",
    "\n",
    "# Convert to a DataFrame for better readability\n",
    "distance_df = pd.DataFrame(dist_matrix, index=table_pro_with_avg.index, columns=table_pro_with_avg.index)\n",
    "\n",
    "print(\"Pairwise Chi2 Distance Matrix:\")\n",
    "print(distance_df)"
   ]
  }
 ],
 "metadata": {
  "kernelspec": {
   "display_name": "mca_ann_inv",
   "language": "python",
   "name": "python3"
  },
  "language_info": {
   "codemirror_mode": {
    "name": "ipython",
    "version": 3
   },
   "file_extension": ".py",
   "mimetype": "text/x-python",
   "name": "python",
   "nbconvert_exporter": "python",
   "pygments_lexer": "ipython3",
   "version": "3.9.19"
  }
 },
 "nbformat": 4,
 "nbformat_minor": 2
}
