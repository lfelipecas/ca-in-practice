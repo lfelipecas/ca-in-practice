{
 "cells": [
  {
   "cell_type": "markdown",
   "metadata": {},
   "source": [
    "# Chapter 7: Optimal Scaling"
   ]
  },
  {
   "cell_type": "code",
   "execution_count": 1,
   "metadata": {},
   "outputs": [],
   "source": [
    "import numpy as np\n",
    "import pandas as pd"
   ]
  },
  {
   "cell_type": "code",
   "execution_count": 2,
   "metadata": {},
   "outputs": [
    {
     "name": "stdout",
     "output_type": "stream",
     "text": [
      "        VG    G    R    B  VB\n",
      "16-24  243  789  167   18   6\n",
      "25-34  220  809  164   35   6\n",
      "35-44  147  658  181   41   8\n",
      "45-54   90  469  236   50  16\n",
      "55-64   53  414  306  106  30\n",
      "65-74   44  267  284   98  20\n",
      "75+     20  136  157   66  17\n"
     ]
    }
   ],
   "source": [
    "# Define the relative path to the Excel file containing the health data\n",
    "data_path = \"../data/health.xls\"\n",
    "\n",
    "# Load the data from the Excel file into a DataFrame\n",
    "health = pd.read_excel(data_path, index_col=0)\n",
    "print(health)"
   ]
  },
  {
   "cell_type": "code",
   "execution_count": 3,
   "metadata": {},
   "outputs": [
    {
     "name": "stdout",
     "output_type": "stream",
     "text": [
      "Rescaled Coordinates (adapted from Greenacre's R code):\n",
      "[100.          89.68609865  56.95067265  31.39013453  14.79820628\n",
      "  10.76233184   0.        ]\n"
     ]
    }
   ],
   "source": [
    "# Step 1: Extract the first dimension coordinates (column 1) from the DataFrame\n",
    "# This mirrors the code provided by Greenacre for rescaling the first dimension.\n",
    "first_dimension = health.iloc[:, 0].values\n",
    "\n",
    "# Step 2: Calculate the range (max - min) of the first dimension\n",
    "health_range = np.max(first_dimension) - np.min(first_dimension)\n",
    "\n",
    "# Step 3: Rescale the coordinates to lie between 0 and 100\n",
    "# Formula: scaled_value = (value - min_value) * 100 / range\n",
    "health_scale = (first_dimension - np.min(first_dimension)) * 100 / health_range\n",
    "\n",
    "# Step 4: Display the rescaled coordinates\n",
    "print(\"Rescaled Coordinates (adapted from Greenacre's R code):\")\n",
    "print(health_scale)"
   ]
  },
  {
   "cell_type": "code",
   "execution_count": 4,
   "metadata": {},
   "outputs": [
    {
     "name": "stdout",
     "output_type": "stream",
     "text": [
      "Optimal scale values (coordinates of health categories in the first dimension):\n",
      "[-1.14412143 -0.53665231  1.18795829  2.0428549   2.07602064]\n"
     ]
    }
   ],
   "source": [
    "# Step 5: Calculate the relative frequency matrix (profile matrix)\n",
    "# This divides each cell by the total sum of the table to get relative frequencies\n",
    "health_sum = health.values.sum()\n",
    "health_P = health / health_sum  # Relative frequency matrix\n",
    "\n",
    "# Step 6: Calculate row and column sums (marginals)\n",
    "health_r = health_P.sum(axis=1)  # Row sums\n",
    "health_c = health_P.sum(axis=0)  # Column sums\n",
    "\n",
    "# Step 7: Create diagonal matrices for the row and column sums\n",
    "health_Dr = np.diag(health_r)  # Diagonal matrix for row sums\n",
    "health_Dc = np.diag(health_c)  # Diagonal matrix for column sums\n",
    "health_Drmh = np.diag(1 / np.sqrt(health_r))  # Inverse square root of row sums\n",
    "health_Dcmh = np.diag(1 / np.sqrt(health_c))  # Inverse square root of column sums\n",
    "\n",
    "# Step 8: Centered matrix calculation (matrix S)\n",
    "# S = Dr^(-1/2) * (P - row_sums * column_sums) * Dc^(-1/2)\n",
    "health_P_matrix = health_P.values  # Convert DataFrame to NumPy array\n",
    "health_S = np.dot(np.dot(health_Drmh, health_P_matrix - np.outer(health_r, health_c)), health_Dcmh)\n",
    "\n",
    "# Step 9: Singular Value Decomposition (SVD)\n",
    "# Decompose matrix S into U (left singular vectors), D (singular values), and Vt (right singular vectors)\n",
    "U, D, Vt = np.linalg.svd(health_S, full_matrices=False)\n",
    "\n",
    "# Step 10: Extract coordinates of the health categories (column scores)\n",
    "# Column coordinates in the first dimension (Vt.T gives the transposed right singular vectors)\n",
    "health_csc = np.dot(health_Dcmh, Vt.T[:, 0])  # Column standard coordinates\n",
    "\n",
    "# Step 11: Display the optimal scale values for health categories\n",
    "print(\"Optimal scale values (coordinates of health categories in the first dimension):\")\n",
    "print(health_csc)"
   ]
  },
  {
   "cell_type": "code",
   "execution_count": 5,
   "metadata": {},
   "outputs": [
    {
     "name": "stdout",
     "output_type": "stream",
     "text": [
      "VG: Calculated: -1.144, Expected: 1.144\n",
      "G: Calculated: -0.537, Expected: 0.537\n",
      "R: Calculated: 1.188, Expected: -1.188\n",
      "B: Calculated: 2.043, Expected: -2.043\n",
      "VB: Calculated: 2.076, Expected: -2.076\n"
     ]
    }
   ],
   "source": [
    "# Mapping the expected values for comparison\n",
    "expected_values = {\n",
    "    'VG': 1.144,  # Very Good (Muy buena)\n",
    "    'G': 0.537,   # Good (Buena)\n",
    "    'R': -1.188,  # Regular (Regular)\n",
    "    'B': -2.043,  # Bad (Mala)\n",
    "    'VB': -2.076  # Very Bad (Muy mala)\n",
    "}\n",
    "\n",
    "# Display calculated and expected values side by side\n",
    "for i, category in enumerate(health.columns):\n",
    "    print(f\"{category}: Calculated: {health_csc[i]:.3f}, Expected: {expected_values[category]}\")"
   ]
  },
  {
   "cell_type": "code",
   "execution_count": 6,
   "metadata": {},
   "outputs": [],
   "source": [
    "# Step 12: Adjusting signs for consistency with book results\n",
    "# The sign inversion is done to align with the results in Greenacre's book.\n",
    "health_csc_inverted = -health_csc\n",
    "\n",
    "# Step 13: Assign the inverted values to health categories\n",
    "health_optimal = pd.Series({\n",
    "    'Muy buena': health_csc_inverted[0],  # Corresponding to VG (Very Good)\n",
    "    'Buena': health_csc_inverted[1],      # Corresponding to G (Good)\n",
    "    'Regular': health_csc_inverted[2],    # Corresponding to R (Regular)\n",
    "    'Mala': health_csc_inverted[3],       # Corresponding to M (Bad)\n",
    "    'Muy mala': health_csc_inverted[4]    # Corresponding to VB (Very Bad)\n",
    "})\n",
    "\n",
    "# Step 14: Calculate the range of the optimal scale\n",
    "# Range = max value - min value\n",
    "health_range = health_optimal.max() - health_optimal.min()\n",
    "\n",
    "# Step 15: Transform the optimal scale values to fit between 0 and 100\n",
    "# Formula: transformed_value = ((value - min_value) * 100) / range\n",
    "health_transformed = (health_optimal - health_optimal.min()) * 100 / health_range"
   ]
  },
  {
   "cell_type": "code",
   "execution_count": 7,
   "metadata": {},
   "outputs": [
    {
     "name": "stdout",
     "output_type": "stream",
     "text": [
      "Optimal scale values transformed between 0 and 100 (with corrected signs):\n",
      "Muy buena    100.000000\n",
      "Buena         81.135332\n",
      "Regular       27.578359\n",
      "Mala           1.029946\n",
      "Muy mala       0.000000\n",
      "dtype: float64\n"
     ]
    }
   ],
   "source": [
    "# Step 16: Display the transformed scale values\n",
    "print(\"Optimal scale values transformed between 0 and 100 (with corrected signs):\")\n",
    "print(health_transformed)"
   ]
  }
 ],
 "metadata": {
  "kernelspec": {
   "display_name": "mca_ann_inv",
   "language": "python",
   "name": "python3"
  },
  "language_info": {
   "codemirror_mode": {
    "name": "ipython",
    "version": 3
   },
   "file_extension": ".py",
   "mimetype": "text/x-python",
   "name": "python",
   "nbconvert_exporter": "python",
   "pygments_lexer": "ipython3",
   "version": "3.9.19"
  }
 },
 "nbformat": 4,
 "nbformat_minor": 2
}
