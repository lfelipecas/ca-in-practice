{
 "cells": [
  {
   "cell_type": "code",
   "execution_count": 2,
   "metadata": {},
   "outputs": [
    {
     "name": "stdout",
     "output_type": "stream",
     "text": [
      "Canonical Correlation: 0.36959852502491086\n",
      "Squared Correlation (represents variance explained by first dimension): 0.13660306970058966\n",
      "Inertia of the First Dimension: 0.9999999999999997\n"
     ]
    }
   ],
   "source": [
    "import numpy as np\n",
    "import pandas as pd\n",
    "\n",
    "# Load the dataset from the Excel file\n",
    "data_path = \"../data/health.xls\"\n",
    "health = pd.read_excel(data_path, index_col=0)\n",
    "\n",
    "# Step 1: Compute the probability matrix (row profiles)\n",
    "health_sum = health.values.sum()\n",
    "health_P = health / health_sum  # Relative frequency matrix\n",
    "\n",
    "# Step 2: Compute row and column marginal sums\n",
    "health_r = health_P.sum(axis=1)  # Row sums\n",
    "health_c = health_P.sum(axis=0)  # Column sums\n",
    "\n",
    "# Step 3: Compute diagonal matrices\n",
    "health_Dr = np.diag(health_r)  # Diagonal matrix of row sums\n",
    "health_Dc = np.diag(health_c)  # Diagonal matrix of column sums\n",
    "health_Drmh = np.diag(1 / np.sqrt(health_r))  # Inverse sqrt of row sums\n",
    "health_Dcmh = np.diag(1 / np.sqrt(health_c))  # Inverse sqrt of column sums\n",
    "\n",
    "# Step 4: Compute the centered matrix (S matrix)\n",
    "health_P_matrix = health_P.values  # Convert to NumPy array\n",
    "health_S = np.dot(np.dot(health_Drmh, health_P_matrix - np.outer(health_r, health_c)), health_Dcmh)\n",
    "\n",
    "# Step 5: Singular Value Decomposition (SVD)\n",
    "U, D, Vt = np.linalg.svd(health_S, full_matrices=False)\n",
    "\n",
    "# Step 6: Extract row and column standard coordinates (first dimension)\n",
    "health_rsc = np.dot(health_Drmh, U[:, 0])  # Row standard coordinates\n",
    "health_csc = np.dot(health_Dcmh, Vt.T[:, 0])  # Column standard coordinates\n",
    "\n",
    "# Step 7: Compute canonical correlation\n",
    "health_cor = np.dot(health_rsc.T, np.dot(health_P_matrix, health_csc))\n",
    "\n",
    "# Step 8: Compute squared correlation\n",
    "health_cor_squared = health_cor ** 2\n",
    "\n",
    "# Step 9: Compute inertia of the first dimension\n",
    "health_inertia_dim1 = np.dot(health_rsc.T, np.dot(health_Dr, health_rsc))\n",
    "\n",
    "# Print results\n",
    "print(\"Canonical Correlation:\", health_cor)\n",
    "print(\"Squared Correlation (represents variance explained by first dimension):\", health_cor_squared)\n",
    "print(\"Inertia of the First Dimension:\", health_inertia_dim1)"
   ]
  }
 ],
 "metadata": {
  "kernelspec": {
   "display_name": "mca_ann_inv",
   "language": "python",
   "name": "python3"
  },
  "language_info": {
   "codemirror_mode": {
    "name": "ipython",
    "version": 3
   },
   "file_extension": ".py",
   "mimetype": "text/x-python",
   "name": "python",
   "nbconvert_exporter": "python",
   "pygments_lexer": "ipython3",
   "version": "3.9.19"
  }
 },
 "nbformat": 4,
 "nbformat_minor": 2
}
